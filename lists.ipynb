{
  "cells": [
    {
      "cell_type": "markdown",
      "metadata": {
        "id": "view-in-github",
        "colab_type": "text"
      },
      "source": [
        "<a href=\"https://colab.research.google.com/github/parsaloigidion/dsc-data-analysis-python-intro/blob/master/lists.ipynb\" target=\"_parent\"><img src=\"https://colab.research.google.com/assets/colab-badge.svg\" alt=\"Open In Colab\"/></a>"
      ]
    },
    {
      "cell_type": "markdown",
      "metadata": {
        "id": "f_9pwJQiP4hI"
      },
      "source": [
        "# Working with Lists - Lab\n",
        "\n",
        "## Introduction\n",
        "\n",
        "Now that we have a sense of how to read from a list and alter a list in Python, let's put this knowledge to use.\n",
        "\n",
        "## Objectives\n",
        "\n",
        "You will be able to:\n",
        "\n",
        "* Use indexing to access elements in a list\n",
        "* Apply list methods to make changes to a list\n",
        "* Change elements of a list\n",
        "\n",
        "## Instructions\n",
        "\n",
        "In the previous lesson, we had a list of top travel cities."
      ]
    },
    {
      "cell_type": "code",
      "execution_count": 6,
      "metadata": {
        "id": "xmE4scrvP4hJ"
      },
      "outputs": [],
      "source": [
        "top_travel_cities = ['Solta', 'Greenville', 'Buenos Aires', 'Los Cabos', 'Walla Walla Valley', 'Marakesh', 'Albuquerque', 'Archipelago Sea', 'Iguazu Falls', 'Salina Island', 'Toronto', 'Pyeongchang']"
      ]
    },
    {
      "cell_type": "markdown",
      "metadata": {
        "id": "OpyfrZ2eP4hK"
      },
      "source": [
        "> Remember to press shift+enter to run each gray block of code (including the one above).  Otherwise, the variables will not be defined.\n",
        "\n",
        "In this lab we will work with a list of associated countries corresponding to each of the top travel cities."
      ]
    },
    {
      "cell_type": "code",
      "execution_count": 7,
      "metadata": {
        "id": "RT7XfuC6P4hK"
      },
      "outputs": [],
      "source": [
        "countries = ['Croatia',\n",
        " 'USA',\n",
        " 'Argentina',\n",
        " 'Mexico',\n",
        " 'USA',\n",
        " 'Morocco',\n",
        " 'New Mexico',\n",
        " 'Finland',\n",
        " 'Argentina',\n",
        " 'Italy',\n",
        " 'Canada',\n",
        " 'South Korea']"
      ]
    },
    {
      "cell_type": "markdown",
      "metadata": {
        "id": "DCqWPSyLP4hK"
      },
      "source": [
        "> Run the code in the cell above by pressing shift + enter.\n",
        "\n",
        "The list of countries associated with each city has been assigned to the variable `countries`.  Now we will work with this list.\n",
        "\n",
        "## Accessing elements from lists\n",
        "\n",
        "First, set the variable `italy` to be equal to the third to last element from `countries`.  \n",
        ">**Note:** If you see an **error** stating that `countries` is undefined, it means you must press shift+enter in the second gray box where `countries` variable is assigned."
      ]
    },
    {
      "cell_type": "code",
      "execution_count": 8,
      "metadata": {
        "id": "E3_vfvf-P4hK",
        "colab": {
          "base_uri": "https://localhost:8080/",
          "height": 35
        },
        "outputId": "db2c156d-2d77-4b36-ce93-b3b431fc524d"
      },
      "outputs": [
        {
          "output_type": "execute_result",
          "data": {
            "text/plain": [
              "'Italy'"
            ],
            "application/vnd.google.colaboratory.intrinsic+json": {
              "type": "string"
            }
          },
          "metadata": {},
          "execution_count": 8
        }
      ],
      "source": [
        "italy = countries[-3] # 'Italy'\n",
        "italy"
      ]
    },
    {
      "cell_type": "markdown",
      "metadata": {
        "id": "4mTTLBWgP4hK"
      },
      "source": [
        "> We assigned the varible `italy` equal to `None`, but you should change the word `None` to code that uses the `countries` list to assign `italy` to `'Italy'`.  We wrote the variable `italy` a second time, so that you can see what it contains when you run the code block.  Currently, nothing is displayed below as it equals `None`, but when it's correct it will match the string which is commented out, `'Italy'`."
      ]
    },
    {
      "cell_type": "code",
      "execution_count": 9,
      "metadata": {
        "id": "J050zEnXP4hK",
        "colab": {
          "base_uri": "https://localhost:8080/",
          "height": 35
        },
        "outputId": "95de428e-0995-4f14-a8dc-217f40aeef72"
      },
      "outputs": [
        {
          "output_type": "execute_result",
          "data": {
            "text/plain": [
              "'Italy'"
            ],
            "application/vnd.google.colaboratory.intrinsic+json": {
              "type": "string"
            }
          },
          "metadata": {},
          "execution_count": 9
        }
      ],
      "source": [
        "italy # 'Italy'"
      ]
    },
    {
      "cell_type": "markdown",
      "metadata": {
        "id": "hyXvBuaCP4hK"
      },
      "source": [
        "Now access the fourth element and set it equal to the variable `mexico`."
      ]
    },
    {
      "cell_type": "code",
      "execution_count": 10,
      "metadata": {
        "id": "LiVVN9GdP4hK",
        "colab": {
          "base_uri": "https://localhost:8080/",
          "height": 35
        },
        "outputId": "e8dff43d-9ad3-4883-c379-49e8c721817c"
      },
      "outputs": [
        {
          "output_type": "execute_result",
          "data": {
            "text/plain": [
              "'Mexico'"
            ],
            "application/vnd.google.colaboratory.intrinsic+json": {
              "type": "string"
            }
          },
          "metadata": {},
          "execution_count": 10
        }
      ],
      "source": [
        "mexico = countries[3]\n",
        "mexico"
      ]
    },
    {
      "cell_type": "markdown",
      "metadata": {
        "id": "-P1bhJTVP4hL"
      },
      "source": [
        "Notice that the second through fifth elements are all in a row and all in the Western Hemisphere.  Assign that subset of elements to a variable called `kindof_neighbors`."
      ]
    },
    {
      "cell_type": "code",
      "execution_count": 11,
      "metadata": {
        "id": "-jNuz1JiP4hL",
        "colab": {
          "base_uri": "https://localhost:8080/"
        },
        "outputId": "e9a49342-d412-4a15-e50a-75e6e21c5c85"
      },
      "outputs": [
        {
          "output_type": "execute_result",
          "data": {
            "text/plain": [
              "['USA', 'Argentina', 'Mexico', 'USA']"
            ]
          },
          "metadata": {},
          "execution_count": 11
        }
      ],
      "source": [
        "kindof_neighbors = countries[1:5]\n",
        "kindof_neighbors"
      ]
    },
    {
      "cell_type": "markdown",
      "metadata": {
        "id": "Wqw4QOf6P4hL"
      },
      "source": [
        "## Changing Elements\n",
        "\n",
        "Ok, now let's add a couple of countries onto this list.  At the end of the list, add the country 'Malta'."
      ]
    },
    {
      "cell_type": "code",
      "execution_count": 12,
      "metadata": {
        "id": "-nX83xPqP4hL",
        "colab": {
          "base_uri": "https://localhost:8080/"
        },
        "outputId": "0be137b5-c8e7-42a9-ddff-35774528cb0b"
      },
      "outputs": [
        {
          "output_type": "stream",
          "name": "stdout",
          "text": [
            "['Croatia', 'USA', 'Argentina', 'Mexico', 'USA', 'Morocco', 'New Mexico', 'Finland', 'Argentina', 'Italy', 'Canada', 'South Korea', 'Malta']\n"
          ]
        }
      ],
      "source": [
        "countries.append('Malta')# add code here\n",
        "print(countries)"
      ]
    },
    {
      "cell_type": "markdown",
      "metadata": {
        "id": "ArZZoMtpP4hL"
      },
      "source": [
        "Then add the country 'Thailand'."
      ]
    },
    {
      "cell_type": "code",
      "execution_count": 13,
      "metadata": {
        "id": "hwGUnQGLP4hL",
        "colab": {
          "base_uri": "https://localhost:8080/"
        },
        "outputId": "4069d92b-cd74-43e5-8fe8-7a5049a5e88f"
      },
      "outputs": [
        {
          "output_type": "execute_result",
          "data": {
            "text/plain": [
              "['Croatia',\n",
              " 'USA',\n",
              " 'Argentina',\n",
              " 'Mexico',\n",
              " 'USA',\n",
              " 'Morocco',\n",
              " 'New Mexico',\n",
              " 'Finland',\n",
              " 'Argentina',\n",
              " 'Italy',\n",
              " 'Canada',\n",
              " 'South Korea',\n",
              " 'Malta',\n",
              " 'Thailand']"
            ]
          },
          "metadata": {},
          "execution_count": 13
        }
      ],
      "source": [
        "countries.append('Thailand') # add code here\n",
        "countries"
      ]
    },
    {
      "cell_type": "markdown",
      "metadata": {
        "id": "oyj2nPhKP4hL"
      },
      "source": [
        "Now your list of countries should look like the following."
      ]
    },
    {
      "cell_type": "code",
      "execution_count": 14,
      "metadata": {
        "id": "Q1BM6ruCP4hL",
        "colab": {
          "base_uri": "https://localhost:8080/"
        },
        "outputId": "3f97c5a9-6aca-4a5d-9a32-75721e5d0351"
      },
      "outputs": [
        {
          "output_type": "execute_result",
          "data": {
            "text/plain": [
              "['Croatia',\n",
              " 'USA',\n",
              " 'Argentina',\n",
              " 'Mexico',\n",
              " 'USA',\n",
              " 'Morocco',\n",
              " 'New Mexico',\n",
              " 'Finland',\n",
              " 'Argentina',\n",
              " 'Italy',\n",
              " 'Canada',\n",
              " 'South Korea',\n",
              " 'Malta',\n",
              " 'Thailand']"
            ]
          },
          "metadata": {},
          "execution_count": 14
        }
      ],
      "source": [
        "countries\n",
        "# ['Croatia', 'USA', 'Argentina', 'Mexico', 'USA', 'Morocco', 'New Mexico', 'Finland',\n",
        "# 'Argentina', 'Italy',  'Canada', 'South Korea',  'Malta',  'Thailand']"
      ]
    },
    {
      "cell_type": "markdown",
      "metadata": {
        "id": "kP-W1p5LP4hL"
      },
      "source": [
        "You may have noticed that \"New Mexico\" is included in our list of countries.  That doesn't seem right.  Let's change 'New Mexico' to 'USA'."
      ]
    },
    {
      "cell_type": "code",
      "execution_count": 15,
      "metadata": {
        "id": "WSI0_Q_hP4hL"
      },
      "outputs": [],
      "source": [
        " # add code here\n",
        " countries[6] = 'USA'\n"
      ]
    },
    {
      "cell_type": "code",
      "execution_count": 16,
      "metadata": {
        "id": "BMkft5a6P4hL",
        "colab": {
          "base_uri": "https://localhost:8080/"
        },
        "outputId": "90a714fd-86b1-40f5-d9c9-e8d21da6f7c7"
      },
      "outputs": [
        {
          "output_type": "execute_result",
          "data": {
            "text/plain": [
              "['Croatia',\n",
              " 'USA',\n",
              " 'Argentina',\n",
              " 'Mexico',\n",
              " 'USA',\n",
              " 'Morocco',\n",
              " 'USA',\n",
              " 'Finland',\n",
              " 'Argentina',\n",
              " 'Italy',\n",
              " 'Canada',\n",
              " 'South Korea',\n",
              " 'Malta',\n",
              " 'Thailand']"
            ]
          },
          "metadata": {},
          "execution_count": 16
        }
      ],
      "source": [
        "countries\n",
        "# ['Croatia', 'USA', 'Argentina', 'Mexico', 'USA', 'Morocco', 'USA', 'Finland',\n",
        "# 'Argentina', 'Italy',  'Canada', 'South Korea',  'Malta',  'Thailand']"
      ]
    },
    {
      "cell_type": "markdown",
      "metadata": {
        "id": "c-aP3Xt8P4hL"
      },
      "source": [
        "Finally, let's remove Thailand from the list.  No good reason, we're acting on whimsy."
      ]
    },
    {
      "cell_type": "code",
      "execution_count": 18,
      "metadata": {
        "id": "Mly2j0WzP4hL",
        "colab": {
          "base_uri": "https://localhost:8080/",
          "height": 35
        },
        "outputId": "6f3c1c57-b301-4611-8035-a7d75d9ca5d3"
      },
      "outputs": [
        {
          "output_type": "execute_result",
          "data": {
            "text/plain": [
              "'Thailand'"
            ],
            "application/vnd.google.colaboratory.intrinsic+json": {
              "type": "string"
            }
          },
          "metadata": {},
          "execution_count": 18
        }
      ],
      "source": [
        "countries.pop(-1) # 'Thailand'"
      ]
    },
    {
      "cell_type": "code",
      "execution_count": 19,
      "metadata": {
        "id": "5RGqpu7yP4hL",
        "colab": {
          "base_uri": "https://localhost:8080/"
        },
        "outputId": "37baa34a-7d1d-41af-d6d9-a9dad3c6bb22"
      },
      "outputs": [
        {
          "output_type": "stream",
          "name": "stdout",
          "text": [
            "['Croatia', 'USA', 'Argentina', 'Mexico', 'USA', 'Morocco', 'USA', 'Finland', 'Argentina', 'Italy', 'Canada', 'South Korea', 'Malta']\n"
          ]
        }
      ],
      "source": [
        "print(countries)"
      ]
    },
    {
      "cell_type": "markdown",
      "metadata": {
        "id": "6zkWX_SRP4hL"
      },
      "source": [
        "## Exploring Lists with Methods\n",
        "\n",
        "Ok, now we notice that some countries are mentioned more than once.  Let's see how many repeat countries are on this list.  \n",
        "\n",
        "First, use the `set` and `list` functions to return a unique list of countries.  Set this list equal to the variable `unique_countries`."
      ]
    },
    {
      "cell_type": "code",
      "execution_count": 20,
      "metadata": {
        "id": "sr3gUUyQP4hL"
      },
      "outputs": [],
      "source": [
        "unique_countries = {'Croatia', 'USA', 'Argentina', 'Mexico', 'USA', 'Morocco', 'USA', 'Finland', 'Argentina', 'Italy', 'Canada', 'South Korea', 'Malta'}"
      ]
    },
    {
      "cell_type": "code",
      "execution_count": 21,
      "metadata": {
        "id": "MkYdz24KP4hL",
        "colab": {
          "base_uri": "https://localhost:8080/"
        },
        "outputId": "7346f68b-3b5f-4ce1-cfbb-90b45fe2ce95"
      },
      "outputs": [
        {
          "output_type": "execute_result",
          "data": {
            "text/plain": [
              "{'Argentina',\n",
              " 'Canada',\n",
              " 'Croatia',\n",
              " 'Finland',\n",
              " 'Italy',\n",
              " 'Malta',\n",
              " 'Mexico',\n",
              " 'Morocco',\n",
              " 'South Korea',\n",
              " 'USA'}"
            ]
          },
          "metadata": {},
          "execution_count": 21
        }
      ],
      "source": [
        "unique_countries # ['Canada', 'Italy', 'USA', 'Mexico', 'Finland',\n",
        "#'Malta', 'Morocco', 'Croatia', 'Argentina', 'South Korea']"
      ]
    },
    {
      "cell_type": "markdown",
      "metadata": {
        "id": "wPQxkwFfP4hL"
      },
      "source": [
        "Now the number of repeat countries should be the number of countries minus the number of unique countries.  So use the `len` function on both `unique_countries` and `countries` to calculate this and assign the result to the variable `num_of_repeats`."
      ]
    },
    {
      "cell_type": "code",
      "execution_count": 22,
      "metadata": {
        "id": "DS0JuyerP4hM",
        "colab": {
          "base_uri": "https://localhost:8080/"
        },
        "outputId": "7455fd83-5ff6-4f06-9d11-28c2e436f36b"
      },
      "outputs": [
        {
          "output_type": "execute_result",
          "data": {
            "text/plain": [
              "3"
            ]
          },
          "metadata": {},
          "execution_count": 22
        }
      ],
      "source": [
        "num_of_repeats = len(countries)- len(unique_countries)\n",
        "num_of_repeats # 3"
      ]
    },
    {
      "cell_type": "markdown",
      "metadata": {
        "id": "IVxQqSO5P4hM"
      },
      "source": [
        "## Summary\n",
        "\n",
        "In this lesson, we practiced working with lists in Python. We saw how to index lists to select specific elements, how to use list methods to change lists, and how to add and remove elements from a list. Finally, we saw how to use a set to calculate the number of unique elements in the list."
      ]
    }
  ],
  "metadata": {
    "kernelspec": {
      "display_name": "Python (learn-env)",
      "language": "python",
      "name": "learn-env"
    },
    "language_info": {
      "codemirror_mode": {
        "name": "ipython",
        "version": 3
      },
      "file_extension": ".py",
      "mimetype": "text/x-python",
      "name": "python",
      "nbconvert_exporter": "python",
      "pygments_lexer": "ipython3",
      "version": "3.8.5"
    },
    "colab": {
      "provenance": [],
      "include_colab_link": true
    }
  },
  "nbformat": 4,
  "nbformat_minor": 0
}
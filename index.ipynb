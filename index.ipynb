{
  "cells": [
    {
      "cell_type": "markdown",
      "metadata": {
        "id": "view-in-github",
        "colab_type": "text"
      },
      "source": [
        "<a href=\"https://colab.research.google.com/github/parsaloigidion/dsc-data-analysis-python-intro/blob/master/index.ipynb\" target=\"_parent\"><img src=\"https://colab.research.google.com/assets/colab-badge.svg\" alt=\"Open In Colab\"/></a>"
      ]
    },
    {
      "cell_type": "markdown",
      "metadata": {
        "id": "KRP99LRXStC6"
      },
      "source": [
        "# Built-in Python Operators, Functions, and Methods - Lab\n",
        "\n",
        "## Introduction\n",
        "We've looked at some of the built-in methods, functions, and the operators in Python. These are all very powerful tools we can (and will) use in our code. Below, we'll put these new tools to use to solve the tests in this lab.\n",
        "\n",
        "## Objectives\n",
        "\n",
        "In this lab you will:\n",
        "\n",
        "* Use built-in Python functions and methods\n",
        "* Use comparison operators to compare objects\n",
        "* Use logical operators to incorporate multiple conditions\n",
        "* Use identity operators to confirm the identity of an object\n",
        "\n",
        "\n",
        "## Instructions\n",
        "\n",
        "Let's start by using some built-in functions and methods. Employ the appropriate functions and methods to get the intended result."
      ]
    },
    {
      "cell_type": "code",
      "execution_count": 7,
      "metadata": {
        "id": "0CRSFKFMStC8",
        "colab": {
          "base_uri": "https://localhost:8080/",
          "height": 35
        },
        "outputId": "1ab604cb-ca25-4190-9846-4b7a6d2d7f0e"
      },
      "outputs": [
        {
          "output_type": "execute_result",
          "data": {
            "text/plain": [
              "'HELLO, THERE'"
            ],
            "application/vnd.google.colaboratory.intrinsic+json": {
              "type": "string"
            }
          },
          "metadata": {},
          "execution_count": 7
        }
      ],
      "source": [
        "# Desired output: \"HELLO, THERE\"\n",
        "yell_hello = \"hello, there\"\n",
        "yell_hello.upper()"
      ]
    },
    {
      "cell_type": "code",
      "execution_count": 8,
      "metadata": {
        "id": "ZbfPehynStC9",
        "colab": {
          "base_uri": "https://localhost:8080/",
          "height": 35
        },
        "outputId": "2c5bdd63-49e1-45d5-d529-967d1b12fbea"
      },
      "outputs": [
        {
          "output_type": "execute_result",
          "data": {
            "text/plain": [
              "'psst, hey'"
            ],
            "application/vnd.google.colaboratory.intrinsic+json": {
              "type": "string"
            }
          },
          "metadata": {},
          "execution_count": 8
        }
      ],
      "source": [
        "# Desired output: \"psst, hey\"\n",
        "whisper_hey = \"PSST, HEY\"\n",
        "whisper_hey.lower()"
      ]
    },
    {
      "cell_type": "code",
      "execution_count": 11,
      "metadata": {
        "id": "JALXCFDXStC9",
        "colab": {
          "base_uri": "https://localhost:8080/",
          "height": 35
        },
        "outputId": "c541e225-3c1e-40b2-8a1b-b005a0fb6214"
      },
      "outputs": [
        {
          "output_type": "execute_result",
          "data": {
            "text/plain": [
              "'Learn. love. code.'"
            ],
            "application/vnd.google.colaboratory.intrinsic+json": {
              "type": "string"
            }
          },
          "metadata": {},
          "execution_count": 11
        }
      ],
      "source": [
        "# Desired output: \"Learn. Love. Code\"\n",
        "flatiron_mantra = \"LEARN. LOVE. CODE.\"\n",
        "flatiron_mantra.capitalize()"
      ]
    },
    {
      "cell_type": "code",
      "execution_count": 12,
      "metadata": {
        "id": "SZn2nfvPStC9",
        "colab": {
          "base_uri": "https://localhost:8080/"
        },
        "outputId": "4e6b8040-f748-4558-d907-0b41a129a50b"
      },
      "outputs": [
        {
          "output_type": "execute_result",
          "data": {
            "text/plain": [
              "str"
            ]
          },
          "metadata": {},
          "execution_count": 12
        }
      ],
      "source": [
        "# Desired output: str\n",
        "type_string = \"i'm a string\"\n",
        "type(type_string)"
      ]
    },
    {
      "cell_type": "code",
      "execution_count": 13,
      "metadata": {
        "id": "SaAhnk_tStC9",
        "colab": {
          "base_uri": "https://localhost:8080/"
        },
        "outputId": "72e11fbc-1618-4924-d4cd-7bceffb86c5e"
      },
      "outputs": [
        {
          "output_type": "execute_result",
          "data": {
            "text/plain": [
              "list"
            ]
          },
          "metadata": {},
          "execution_count": 13
        }
      ],
      "source": [
        "# Desired output: list\n",
        "type_list = [\"i'm\", \"a\", \"list\"]\n",
        "type(type_list)"
      ]
    },
    {
      "cell_type": "code",
      "execution_count": 14,
      "metadata": {
        "id": "EcXEBHkXStC9",
        "colab": {
          "base_uri": "https://localhost:8080/"
        },
        "outputId": "9517efdb-66ca-4183-b229-4b25b3f85aba"
      },
      "outputs": [
        {
          "output_type": "execute_result",
          "data": {
            "text/plain": [
              "3"
            ]
          },
          "metadata": {},
          "execution_count": 14
        }
      ],
      "source": [
        "# Desired output: 3\n",
        "length_of_list = [\"i'm\", \"a\", \"list\"]\n",
        "len(length_of_list)"
      ]
    },
    {
      "cell_type": "code",
      "execution_count": 15,
      "metadata": {
        "id": "wqo5yh5RStC-",
        "colab": {
          "base_uri": "https://localhost:8080/",
          "height": 35
        },
        "outputId": "7396a1cb-b9f1-43dc-f4ec-1075923311aa"
      },
      "outputs": [
        {
          "output_type": "execute_result",
          "data": {
            "text/plain": [
              "'list'"
            ],
            "application/vnd.google.colaboratory.intrinsic+json": {
              "type": "string"
            }
          },
          "metadata": {},
          "execution_count": 15
        }
      ],
      "source": [
        "# Desired output: \"list\"\n",
        "longest_word_in_list = [\"i'm\", \"a\", \"list\"]\n",
        "def test(words):\n",
        "    return max(words, key=len)\n",
        "test(longest_word_in_list)"
      ]
    },
    {
      "cell_type": "code",
      "execution_count": 16,
      "metadata": {
        "id": "s4Z0FSt_StC-",
        "colab": {
          "base_uri": "https://localhost:8080/"
        },
        "outputId": "4491b5ee-c441-4b85-e0ff-682ea020c4c5"
      },
      "outputs": [
        {
          "output_type": "execute_result",
          "data": {
            "text/plain": [
              "1"
            ]
          },
          "metadata": {},
          "execution_count": 16
        }
      ],
      "source": [
        "# Desired output: 1\n",
        "smallest_number = [1, 3, 4, 78]\n",
        "smallest_number.sort()\n",
        "smallest_number[0]"
      ]
    },
    {
      "cell_type": "code",
      "execution_count": 17,
      "metadata": {
        "id": "lLS8g5y1StC-",
        "colab": {
          "base_uri": "https://localhost:8080/"
        },
        "outputId": "99ad384a-462f-48a8-af44-011cb19e536b"
      },
      "outputs": [
        {
          "output_type": "execute_result",
          "data": {
            "text/plain": [
              "11"
            ]
          },
          "metadata": {},
          "execution_count": 17
        }
      ],
      "source": [
        "# Desired output: 11\n",
        "sum_of_numbers = [1, 2, 3, 5]\n",
        "sum(sum_of_numbers)"
      ]
    },
    {
      "cell_type": "markdown",
      "metadata": {
        "id": "3rDaNml4StC-"
      },
      "source": [
        "Uncomment the code in each cell as you start working on them. For example, when you begin working on the first cell, remove `#` at the start of each line.  \n",
        "\n",
        "> **Note:** The `cmd+?` keyboard shortcut comments or uncomments a given line of code!\n",
        "\n",
        "Replace `[COMPARISON]`, with the correct comparison operator to get the desired output, which you will find as a comment at the end of each line. See the example below.\n",
        "\n",
        "```python\n",
        "# boolean_compare = False [COMPARISON] True # True\n",
        "=> boolean_compare = False != True # True\n",
        "OR\n",
        "=> boolean_compare = False != True\n",
        "```\n",
        "\n",
        "Once uncommented, you can check the output to see if your comparisons match the answers provided in the ending comments."
      ]
    },
    {
      "cell_type": "markdown",
      "metadata": {
        "id": "_ughuviiStC-"
      },
      "source": [
        "> **Remember** the comparison operators are: `==`, `!=`, `<`, `>`, `<=`, `>=`"
      ]
    },
    {
      "cell_type": "code",
      "execution_count": 19,
      "metadata": {
        "id": "A2jzgC8ZStC_",
        "colab": {
          "base_uri": "https://localhost:8080/"
        },
        "outputId": "74bf5567-11c0-465e-bc23-ed8b551dae1d"
      },
      "outputs": [
        {
          "output_type": "stream",
          "name": "stdout",
          "text": [
            "False False\n"
          ]
        }
      ],
      "source": [
        " boolean_compare = True != True # False\n",
        " boolean_compare2 = False == True # False\n",
        " print(boolean_compare, boolean_compare2)"
      ]
    },
    {
      "cell_type": "code",
      "execution_count": 20,
      "metadata": {
        "id": "hwC08HwvStC_",
        "colab": {
          "base_uri": "https://localhost:8080/"
        },
        "outputId": "e789ea34-597e-4d16-d988-2126ac175878"
      },
      "outputs": [
        {
          "output_type": "stream",
          "name": "stdout",
          "text": [
            "True True False\n"
          ]
        }
      ],
      "source": [
        " number_compare = 10 == 10 # True\n",
        " number_compare2 = -20 != 30 # True\n",
        " number_compare3 = 4 == 5 # False\n",
        " print(number_compare, number_compare2, number_compare3)"
      ]
    },
    {
      "cell_type": "code",
      "execution_count": 21,
      "metadata": {
        "id": "pdq69FTqStC_",
        "colab": {
          "base_uri": "https://localhost:8080/"
        },
        "outputId": "d6e11fc3-45f7-40b3-cd62-5536d2d27436"
      },
      "outputs": [
        {
          "output_type": "stream",
          "name": "stdout",
          "text": [
            "True False True\n"
          ]
        }
      ],
      "source": [
        " string_compare = \"stacy\" != \"STACY\" # True\n",
        " string_compare2 = \"hey i love python!\" == \"hi love python\" # False\n",
        " string_compare3 = \"this string is bigger than the other\" != \"that is true\" # True\n",
        " print(string_compare, string_compare2, string_compare3)"
      ]
    },
    {
      "cell_type": "markdown",
      "metadata": {
        "id": "pHPDiaBSStC_"
      },
      "source": [
        "In the next section, do not use either `==` or `!=` operators"
      ]
    },
    {
      "cell_type": "code",
      "execution_count": 25,
      "metadata": {
        "scrolled": true,
        "id": "XDAdJWPzStC_",
        "colab": {
          "base_uri": "https://localhost:8080/"
        },
        "outputId": "7a14f88a-c3cb-4020-afac-9772d2046ca1"
      },
      "outputs": [
        {
          "output_type": "stream",
          "name": "stdout",
          "text": [
            "True True False True False\n"
          ]
        }
      ],
      "source": [
        " list_compare = [0, 0, 0, 0] != [0, 0, 0] # True\n",
        " list_compare2 = [1, 0, 0] != [0, 0, 0] # True\n",
        " list_compare3 = [0, 0, 0] == [0, 0, 3] # False\n",
        " list_compare4 = [0, 0, 3, 0] != [0, 0, 3] # True\n",
        " list_compare5 = [0, 0, 4, 0] == [0, 0, 3] # False\n",
        " print(list_compare, list_compare2, list_compare3, list_compare4, list_compare5)"
      ]
    },
    {
      "cell_type": "markdown",
      "metadata": {
        "id": "H-a6A0GpStC_"
      },
      "source": [
        "### Practicing Identity and Logical Operators"
      ]
    },
    {
      "cell_type": "markdown",
      "metadata": {
        "id": "E-7yxMLYStC_"
      },
      "source": [
        "In this next section, use the identity and logical operators to get the desired output as you did in the examples above using the comparison operators."
      ]
    },
    {
      "cell_type": "markdown",
      "metadata": {
        "id": "Gf8Te1qJStC_"
      },
      "source": [
        "> **Remember** the **logical operators** are `and`, `or`, & `not`; and the **identity operators** are `is` & `is not`"
      ]
    },
    {
      "cell_type": "markdown",
      "metadata": {
        "id": "qqV-aOthStC_"
      },
      "source": [
        "Use logical operators for this section"
      ]
    },
    {
      "cell_type": "code",
      "execution_count": 28,
      "metadata": {
        "id": "CTN4utLsStC_",
        "colab": {
          "base_uri": "https://localhost:8080/"
        },
        "outputId": "69ca3a95-4b32-4555-ff1e-da3ced8c2a4f"
      },
      "outputs": [
        {
          "output_type": "stream",
          "name": "stdout",
          "text": [
            "[] True 0 2 2 False False\n"
          ]
        }
      ],
      "source": [
        " logical_compare = 2 and [] # []\n",
        " logical_compare2 = not [] # True\n",
        " logical_compare3 = 0 and [] # 0\n",
        " logical_compare4 = True and 2 # 2\n",
        " logical_compare5 = 2 or 3 # 2\n",
        " logical_compare6 = not True # False\n",
        " logical_compare7 = False and 2 # False\n",
        " print(logical_compare, logical_compare2, logical_compare3, logical_compare4,\n",
        "       logical_compare5, logical_compare6, logical_compare7)"
      ]
    },
    {
      "cell_type": "markdown",
      "metadata": {
        "id": "s_SyolnCStDA"
      },
      "source": [
        "Use identity operators for this section"
      ]
    },
    {
      "cell_type": "code",
      "execution_count": 30,
      "metadata": {
        "id": "fKsvJvsDStDA",
        "colab": {
          "base_uri": "https://localhost:8080/"
        },
        "outputId": "0f1f0a8c-0f2c-45ed-95a3-0c881f656974"
      },
      "outputs": [
        {
          "output_type": "stream",
          "name": "stdout",
          "text": [
            "False True True True False False\n"
          ]
        },
        {
          "output_type": "stream",
          "name": "stderr",
          "text": [
            "<>:6: SyntaxWarning: \"is not\" with a literal. Did you mean \"!=\"?\n",
            "<>:7: SyntaxWarning: \"is not\" with a literal. Did you mean \"!=\"?\n",
            "<>:6: SyntaxWarning: \"is not\" with a literal. Did you mean \"!=\"?\n",
            "<>:7: SyntaxWarning: \"is not\" with a literal. Did you mean \"!=\"?\n",
            "<ipython-input-30-d776022229fa>:6: SyntaxWarning: \"is not\" with a literal. Did you mean \"!=\"?\n",
            "  identity_compare4 = 9 is not 10 # True\n",
            "<ipython-input-30-d776022229fa>:7: SyntaxWarning: \"is not\" with a literal. Did you mean \"!=\"?\n",
            "  identity_compare5 = \"Same\" is not \"Same\" # False\n"
          ]
        }
      ],
      "source": [
        " a = []\n",
        " b = a\n",
        " identity_compare = {} is {} # False\n",
        " identity_compare2 = a is b # True\n",
        " identity_compare3 = b is not [] # True\n",
        " identity_compare4 = 9 is not 10 # True\n",
        " identity_compare5 = \"Same\" is not \"Same\" # False\n",
        " identity_compare6 = [1,3,4] is [1,2,3] # False\n",
        " print(identity_compare, identity_compare2, identity_compare3,\n",
        "       identity_compare4, identity_compare5, identity_compare6)"
      ]
    },
    {
      "cell_type": "markdown",
      "metadata": {
        "id": "LB0jL1kOStDA"
      },
      "source": [
        "## Summary\n",
        "Great work! After all that, there's nothing we can't compare. Well, I guess apples and oranges might still be off the table. We practiced using comparison, logical, and identity operators in Python to compare elements of the same and different datatypes and/or values. Going forward, there will be plenty of instances where we will need to compare elements. So, it is important to have a good understanding of how each of these operators works. Don't worry, as with all concepts in programming, the more we work with something the better we understand it."
      ]
    }
  ],
  "metadata": {
    "kernelspec": {
      "display_name": "Python (learn-env)",
      "language": "python",
      "name": "learn-env"
    },
    "language_info": {
      "codemirror_mode": {
        "name": "ipython",
        "version": 3
      },
      "file_extension": ".py",
      "mimetype": "text/x-python",
      "name": "python",
      "nbconvert_exporter": "python",
      "pygments_lexer": "ipython3",
      "version": "3.8.5"
    },
    "toc": {
      "base_numbering": 1,
      "nav_menu": {},
      "number_sections": true,
      "sideBar": true,
      "skip_h1_title": false,
      "title_cell": "Table of Contents",
      "title_sidebar": "Contents",
      "toc_cell": false,
      "toc_position": {},
      "toc_section_display": true,
      "toc_window_display": false
    },
    "colab": {
      "provenance": [],
      "include_colab_link": true
    }
  },
  "nbformat": 4,
  "nbformat_minor": 0
}